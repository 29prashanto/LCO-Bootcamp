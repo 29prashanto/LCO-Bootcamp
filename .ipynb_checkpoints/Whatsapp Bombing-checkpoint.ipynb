{
 "cells": [
  {
   "cell_type": "code",
   "execution_count": null,
   "metadata": {},
   "outputs": [],
   "source": [
    "Whatsapp Bombing"
   ]
  },
  {
   "cell_type": "code",
   "execution_count": null,
   "metadata": {},
   "outputs": [],
   "source": [
    "from selenium import webdriver\n",
    "driver=webdriver.Chrome(\"/home/codetheocean/Documents/LCO/chromedriver\")\n",
    "driver.get(\"https://web.whatsapp.com/\")\n",
    "m=\"HEllo mere bete\"\n",
    "input(\"Enter\")\n",
    "count=500\n",
    "user = driver.find_element_by_xpath('//span[@title = \"Diwakar\"]')\n",
    "user.click()\n",
    "msg_box=driver.find_element_by_class_name(\"_2S1VP\")\n",
    "for i in range(count):\n",
    "    msg_box.send_keys(m)\n",
    "    button=driver.find_element_by_class_name(\"_35EW6\")\n",
    "    button.click()\n",
    "print(\"Bombing Done\")"
   ]
  }
 ],
 "metadata": {
  "kernelspec": {
   "display_name": "Python 3",
   "language": "python",
   "name": "python3"
  },
  "language_info": {
   "codemirror_mode": {
    "name": "ipython",
    "version": 3
   },
   "file_extension": ".py",
   "mimetype": "text/x-python",
   "name": "python",
   "nbconvert_exporter": "python",
   "pygments_lexer": "ipython3",
   "version": "3.7.1"
  }
 },
 "nbformat": 4,
 "nbformat_minor": 2
}
